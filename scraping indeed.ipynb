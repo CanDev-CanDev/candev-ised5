{
 "cells": [
  {
   "cell_type": "code",
   "execution_count": null,
   "metadata": {},
   "outputs": [],
   "source": [
    "import requests\n",
    "from bs4 import BeautifulSoup\n",
    "import urllib\n",
    "import pandas as pd\n",
    "import json\n",
    "from time import sleep, perf_counter as pf\n",
    "import re"
   ]
  },
  {
   "cell_type": "code",
   "execution_count": 13,
   "metadata": {},
   "outputs": [],
   "source": [
    "def raze_list(l):\n",
    "    out = []\n",
    "    for x in l:\n",
    "        if type(x) == list:\n",
    "            out += raze_list(x)\n",
    "        else:\n",
    "            out.append(x)     \n",
    "    return out"
   ]
  },
  {
   "cell_type": "code",
   "execution_count": 3,
   "metadata": {},
   "outputs": [],
   "source": [
    "def post_link(tag):\n",
    "    if tag.name == 'a':\n",
    "        if tag.has_attr('data-tn-element') and tag.has_attr('href'):\n",
    "            return 'jobtitle' in tag['data-tn-element'].lower().replace(' ', '')\n",
    "    return False\n",
    "\n",
    "def is_next_link(tag):\n",
    "    return (not post_link(tag)) and tag.name == 'a' and 'next' == tag.text.lower()[:4] and tag.has_attr('href')"
   ]
  },
  {
   "cell_type": "markdown",
   "metadata": {},
   "source": [
    "Here we search for job postings on [Indeed](https://www.indeed.ca/) matching \"data science\" in Ontario."
   ]
  },
  {
   "cell_type": "code",
   "execution_count": 1,
   "metadata": {},
   "outputs": [],
   "source": [
    "url = 'https://www.indeed.ca/'"
   ]
  },
  {
   "cell_type": "code",
   "execution_count": 4,
   "metadata": {
    "scrolled": true
   },
   "outputs": [
    {
     "name": "stdout",
     "output_type": "stream",
     "text": [
      "https://www.indeed.ca/jobs?q=data+science&l=ON\n",
      "https://www.indeed.ca/jobs?q=data+science&l=ON&start=20\n",
      "https://www.indeed.ca/jobs?q=data+science&l=ON&start=40\n",
      "https://www.indeed.ca/jobs?q=data+science&l=ON&start=60\n",
      "https://www.indeed.ca/jobs?q=data+science&l=ON&start=80\n",
      "https://www.indeed.ca/jobs?q=data+science&l=ON&start=100\n",
      "https://www.indeed.ca/jobs?q=data+science&l=ON&start=120\n",
      "https://www.indeed.ca/jobs?q=data+science&l=ON&start=140\n",
      "https://www.indeed.ca/jobs?q=data+science&l=ON&start=160\n",
      "https://www.indeed.ca/jobs?q=data+science&l=ON&start=180\n",
      "https://www.indeed.ca/jobs?q=data+science&l=ON&start=200\n",
      "https://www.indeed.ca/jobs?q=data+science&l=ON&start=220\n",
      "https://www.indeed.ca/jobs?q=data+science&l=ON&start=240\n",
      "https://www.indeed.ca/jobs?q=data+science&l=ON&start=260\n",
      "https://www.indeed.ca/jobs?q=data+science&l=ON&start=280\n",
      "https://www.indeed.ca/jobs?q=data+science&l=ON&start=300\n",
      "https://www.indeed.ca/jobs?q=data+science&l=ON&start=320\n",
      "https://www.indeed.ca/jobs?q=data+science&l=ON&start=340\n",
      "https://www.indeed.ca/jobs?q=data+science&l=ON&start=360\n",
      "https://www.indeed.ca/jobs?q=data+science&l=ON&start=380\n",
      "https://www.indeed.ca/jobs?q=data+science&l=ON&start=400\n",
      "https://www.indeed.ca/jobs?q=data+science&l=ON&start=420\n",
      "https://www.indeed.ca/jobs?q=data+science&l=ON&start=440\n",
      "https://www.indeed.ca/jobs?q=data+science&l=ON&start=460\n",
      "https://www.indeed.ca/jobs?q=data+science&l=ON&start=480\n",
      "https://www.indeed.ca/jobs?q=data+science&l=ON&start=500\n",
      "https://www.indeed.ca/jobs?q=data+science&l=ON&start=520\n",
      "https://www.indeed.ca/jobs?q=data+science&l=ON&start=540\n",
      "https://www.indeed.ca/jobs?q=data+science&l=ON&start=560\n",
      "https://www.indeed.ca/jobs?q=data+science&l=ON&start=580\n",
      "https://www.indeed.ca/jobs?q=data+science&l=ON&start=600\n",
      "https://www.indeed.ca/jobs?q=data+science&l=ON&start=620\n",
      "https://www.indeed.ca/jobs?q=data+science&l=ON&start=640\n",
      "https://www.indeed.ca/jobs?q=data+science&l=ON&start=660\n",
      "https://www.indeed.ca/jobs?q=data+science&l=ON&start=680\n",
      "https://www.indeed.ca/jobs?q=data+science&l=ON&start=700\n",
      "https://www.indeed.ca/jobs?q=data+science&l=ON&start=720\n",
      "https://www.indeed.ca/jobs?q=data+science&l=ON&start=740\n",
      "https://www.indeed.ca/jobs?q=data+science&l=ON&start=760\n",
      "https://www.indeed.ca/jobs?q=data+science&l=ON&start=780\n",
      "https://www.indeed.ca/jobs?q=data+science&l=ON&start=800\n",
      "https://www.indeed.ca/jobs?q=data+science&l=ON&start=820\n",
      "https://www.indeed.ca/jobs?q=data+science&l=ON&start=840\n",
      "https://www.indeed.ca/jobs?q=data+science&l=ON&start=860\n",
      "https://www.indeed.ca/jobs?q=data+science&l=ON&start=880\n",
      "https://www.indeed.ca/jobs?q=data+science&l=ON&start=900\n",
      "https://www.indeed.ca/jobs?q=data+science&l=ON&start=920\n",
      "https://www.indeed.ca/jobs?q=data+science&l=ON&start=940\n",
      "https://www.indeed.ca/jobs?q=data+science&l=ON&start=960\n",
      "https://www.indeed.ca/jobs?q=data+science&l=ON&start=980\n"
     ]
    }
   ],
   "source": [
    "next_link = 'jobs?q=data+science&l=ON'\n",
    "i = 0\n",
    "s = []\n",
    "with requests.Session() as sess:\n",
    "    while next_link is not None and i < 50:\n",
    "        next_link = next_link.strip('/')\n",
    "        if next_link[:22] != url:\n",
    "            next_link = url + next_link\n",
    "        print(next_link)\n",
    "        tmp = BeautifulSoup(sess.get(next_link).text, 'html.parser')\n",
    "        t1 = pf()\n",
    "        s += [url + x['href'].strip('/') for x in tmp.find_all(post_link)]# if x.has_attr('href')]\n",
    "        next_link = tmp.find('div', attrs = {'class':'pagination'}).find(is_next_link)\n",
    "        if next_link is not None:\n",
    "            next_link = next_link['href']\n",
    "        i += 1\n",
    "        sleep(max(2 - pf() + t1, 0))"
   ]
  },
  {
   "cell_type": "markdown",
   "metadata": {},
   "source": [
    "Saving progress."
   ]
  },
  {
   "cell_type": "code",
   "execution_count": 5,
   "metadata": {},
   "outputs": [],
   "source": [
    "with open('post_links.json', 'w') as f:\n",
    "    json.dump(s, f)"
   ]
  },
  {
   "cell_type": "code",
   "execution_count": 7,
   "metadata": {},
   "outputs": [],
   "source": [
    "with open('post_links.json', 'r') as f:\n",
    "    s = json.load(f)"
   ]
  },
  {
   "cell_type": "code",
   "execution_count": 6,
   "metadata": {},
   "outputs": [],
   "source": [
    "def employer(tag):\n",
    "    return tag.has_attr('class') and max(['companyreviewheading' in x.lower().replace('-', '') for x in tag['class']])\n",
    "def title(tag):\n",
    "    return tag.has_attr('class') and max(['jobinfoheadertitle' in x.lower().replace('-', '') for x in tag['class']])\n",
    "def props(tag):\n",
    "    return 'div' == tag.name and tag.has_attr('class') and max(['jobmetadataheaderitem' in x.lower().replace('-', '') for x in tag['class']])\n",
    "def desc(tag):\n",
    "    return 'div' == tag.name and tag.has_attr('class') and max(['jobcomponentdescription' in x.lower().replace('-', '') for x in tag['class']])\n",
    "def desc_text(tag):\n",
    "    return 'div' == tag.name and 0 == len(tag.attrs)\n",
    "def desc_list(tag):\n",
    "    return 'p' == tag.name or 'li' == tag.name"
   ]
  },
  {
   "cell_type": "markdown",
   "metadata": {},
   "source": [
    "Getting postings."
   ]
  },
  {
   "cell_type": "code",
   "execution_count": 7,
   "metadata": {},
   "outputs": [],
   "source": [
    "posts = []\n",
    "with requests.Session() as sess:\n",
    "    try:\n",
    "        for link in s:\n",
    "            #print(link)\n",
    "            tmp = BeautifulSoup(sess.get(link).text, 'html.parser')\n",
    "            info = dict()\n",
    "            info['link'] = link\n",
    "            x = tmp.find(employer)\n",
    "            if x is not None:\n",
    "                info['employer'] = x.text\n",
    "            if tmp.find(title) is not None:\n",
    "                info['title'] = tmp.find(title).text\n",
    "            else:\n",
    "                info['title'] = ''\n",
    "            info['props'] = [x.text for x in tmp.find_all(props)]\n",
    "            for script in tmp([\"script\", \"style\"]):\n",
    "                script.decompose()  \n",
    "            info['text'] = tmp.get_text()\n",
    "            info['exp'] = [x for x in info['text'] if 'year' in x and ('experience' in x or 'Experience' in x)]\n",
    "            posts.append(info)\n",
    "    except Exception as e:\n",
    "        print(link)\n",
    "        raise e"
   ]
  },
  {
   "cell_type": "markdown",
   "metadata": {},
   "source": [
    "Saving progress."
   ]
  },
  {
   "cell_type": "code",
   "execution_count": 8,
   "metadata": {},
   "outputs": [],
   "source": [
    "with open('indeed_posts.json', 'w') as f:\n",
    "    json.dump(posts, f)"
   ]
  },
  {
   "cell_type": "code",
   "execution_count": 2,
   "metadata": {},
   "outputs": [],
   "source": [
    "with open('indeed_posts.json', 'r') as f:\n",
    "    posts = json.load(f)"
   ]
  },
  {
   "cell_type": "markdown",
   "metadata": {},
   "source": [
    "The number of postings analysed:"
   ]
  },
  {
   "cell_type": "code",
   "execution_count": 3,
   "metadata": {},
   "outputs": [
    {
     "data": {
      "text/plain": [
       "1250"
      ]
     },
     "execution_count": 3,
     "metadata": {},
     "output_type": "execute_result"
    }
   ],
   "source": [
    "len(posts)"
   ]
  },
  {
   "cell_type": "markdown",
   "metadata": {},
   "source": [
    "A DataFrame containing the job postings."
   ]
  },
  {
   "cell_type": "code",
   "execution_count": 4,
   "metadata": {},
   "outputs": [
    {
     "data": {
      "text/html": [
       "<div>\n",
       "<style scoped>\n",
       "    .dataframe tbody tr th:only-of-type {\n",
       "        vertical-align: middle;\n",
       "    }\n",
       "\n",
       "    .dataframe tbody tr th {\n",
       "        vertical-align: top;\n",
       "    }\n",
       "\n",
       "    .dataframe thead th {\n",
       "        text-align: right;\n",
       "    }\n",
       "</style>\n",
       "<table border=\"1\" class=\"dataframe\">\n",
       "  <thead>\n",
       "    <tr style=\"text-align: right;\">\n",
       "      <th></th>\n",
       "      <th>employer</th>\n",
       "      <th>exp</th>\n",
       "      <th>link</th>\n",
       "      <th>props</th>\n",
       "      <th>text</th>\n",
       "      <th>title</th>\n",
       "    </tr>\n",
       "  </thead>\n",
       "  <tbody>\n",
       "    <tr>\n",
       "      <th>0</th>\n",
       "      <td>Sun Life Financial</td>\n",
       "      <td>[]</td>\n",
       "      <td>https://www.indeed.ca/pagead/clk?mo=r&amp;ad=-6NYl...</td>\n",
       "      <td>[]</td>\n",
       "      <td>\\n\\nData Scientist - Waterloo, ON - Indeed.com...</td>\n",
       "      <td>Data Scientist</td>\n",
       "    </tr>\n",
       "    <tr>\n",
       "      <th>1</th>\n",
       "      <td>Rakuten Kobo Inc.</td>\n",
       "      <td>[]</td>\n",
       "      <td>https://www.indeed.ca/pagead/clk?mo=r&amp;ad=-6NYl...</td>\n",
       "      <td>[]</td>\n",
       "      <td>\\n\\nSoftware Developer, Big Data - Toronto, ON...</td>\n",
       "      <td>Software Developer, Big Data</td>\n",
       "    </tr>\n",
       "    <tr>\n",
       "      <th>2</th>\n",
       "      <td>Intact</td>\n",
       "      <td>[]</td>\n",
       "      <td>https://www.indeed.ca/pagead/clk?mo=r&amp;ad=-6NYl...</td>\n",
       "      <td>[]</td>\n",
       "      <td>\\n\\nData Scientist - Big Data - Toronto, ON - ...</td>\n",
       "      <td>Data Scientist - Big Data</td>\n",
       "    </tr>\n",
       "    <tr>\n",
       "      <th>3</th>\n",
       "      <td>AT&amp;T</td>\n",
       "      <td>[]</td>\n",
       "      <td>https://www.indeed.ca/pagead/clk?mo=r&amp;ad=-6NYl...</td>\n",
       "      <td>[]</td>\n",
       "      <td>\\n\\nTechnical Specialist, Network Design - Dat...</td>\n",
       "      <td>Technical Specialist, Network Design - Data Ce...</td>\n",
       "    </tr>\n",
       "    <tr>\n",
       "      <th>4</th>\n",
       "      <td>Hydro Ottawa</td>\n",
       "      <td>[]</td>\n",
       "      <td>https://www.indeed.ca/rc/clk?jk=9a887b02b03bfa...</td>\n",
       "      <td>[$77,188 a year]</td>\n",
       "      <td>\\n\\nManager, Data Science - Ottawa, ON - Indee...</td>\n",
       "      <td>Manager, Data Science</td>\n",
       "    </tr>\n",
       "  </tbody>\n",
       "</table>\n",
       "</div>"
      ],
      "text/plain": [
       "             employer exp                                               link  \\\n",
       "0  Sun Life Financial  []  https://www.indeed.ca/pagead/clk?mo=r&ad=-6NYl...   \n",
       "1   Rakuten Kobo Inc.  []  https://www.indeed.ca/pagead/clk?mo=r&ad=-6NYl...   \n",
       "2              Intact  []  https://www.indeed.ca/pagead/clk?mo=r&ad=-6NYl...   \n",
       "3                AT&T  []  https://www.indeed.ca/pagead/clk?mo=r&ad=-6NYl...   \n",
       "4        Hydro Ottawa  []  https://www.indeed.ca/rc/clk?jk=9a887b02b03bfa...   \n",
       "\n",
       "              props                                               text  \\\n",
       "0                []  \\n\\nData Scientist - Waterloo, ON - Indeed.com...   \n",
       "1                []  \\n\\nSoftware Developer, Big Data - Toronto, ON...   \n",
       "2                []  \\n\\nData Scientist - Big Data - Toronto, ON - ...   \n",
       "3                []  \\n\\nTechnical Specialist, Network Design - Dat...   \n",
       "4  [$77,188 a year]  \\n\\nManager, Data Science - Ottawa, ON - Indee...   \n",
       "\n",
       "                                               title  \n",
       "0                                     Data Scientist  \n",
       "1                       Software Developer, Big Data  \n",
       "2                          Data Scientist - Big Data  \n",
       "3  Technical Specialist, Network Design - Data Ce...  \n",
       "4                              Manager, Data Science  "
      ]
     },
     "execution_count": 4,
     "metadata": {},
     "output_type": "execute_result"
    }
   ],
   "source": [
    "data = pd.read_json(json.dumps(posts), orient = 'records')\n",
    "data.head()"
   ]
  },
  {
   "cell_type": "markdown",
   "metadata": {},
   "source": [
    "Getting a list of Departments and Agencies in the Federal Public Service."
   ]
  },
  {
   "cell_type": "code",
   "execution_count": 5,
   "metadata": {},
   "outputs": [],
   "source": [
    "others = '''Government of Canada\n",
    "Canadian Security Intelligence Service\n",
    "National Capital Commission\n",
    "Canada Investment and Savings\n",
    "Canadian Forces Non-Public Funds\n",
    "Royal Canadian Mint\n",
    "Canadian Forces Morale and Welfare Services\n",
    "Bank of Canada\n",
    "Canadian Air Transport Security Authority\n",
    "Security Intelligence Review Committee'''.split(\"\\n\")\n",
    "others = [x.lower().strip().replace(\" \", '') for x in others]\n",
    "others\n",
    "\n",
    "agencies = pd.read_html('https://www.canada.ca/en/treasury-board-secretariat/services/innovation/human-resources-statistics/population-federal-public-service-department.html')\n",
    "agencies = agencies[0]['Departments and Agencies']['2000'].str.lower().str.replace('[^a-z]', '').str.strip().tolist() + others"
   ]
  },
  {
   "cell_type": "markdown",
   "metadata": {},
   "source": [
    "Separating out the federal public sector.  (Note that the public sector at other levels of governement have been grouped with the private sector.)  Here we display the first five rows of the federal public service data."
   ]
  },
  {
   "cell_type": "code",
   "execution_count": 6,
   "metadata": {},
   "outputs": [
    {
     "data": {
      "text/html": [
       "<div>\n",
       "<style scoped>\n",
       "    .dataframe tbody tr th:only-of-type {\n",
       "        vertical-align: middle;\n",
       "    }\n",
       "\n",
       "    .dataframe tbody tr th {\n",
       "        vertical-align: top;\n",
       "    }\n",
       "\n",
       "    .dataframe thead th {\n",
       "        text-align: right;\n",
       "    }\n",
       "</style>\n",
       "<table border=\"1\" class=\"dataframe\">\n",
       "  <thead>\n",
       "    <tr style=\"text-align: right;\">\n",
       "      <th></th>\n",
       "      <th>employer</th>\n",
       "      <th>exp</th>\n",
       "      <th>link</th>\n",
       "      <th>props</th>\n",
       "      <th>text</th>\n",
       "      <th>title</th>\n",
       "    </tr>\n",
       "  </thead>\n",
       "  <tbody>\n",
       "    <tr>\n",
       "      <th>7</th>\n",
       "      <td>Government of Canada</td>\n",
       "      <td>[]</td>\n",
       "      <td>https://www.indeed.ca/rc/clk?jk=7ff10eb9b80c01...</td>\n",
       "      <td>[$108,528 - $141,426 a year]</td>\n",
       "      <td>\\n\\nDirector, Data Analytics - Ottawa, ON - In...</td>\n",
       "      <td>Director, Data Analytics</td>\n",
       "    </tr>\n",
       "    <tr>\n",
       "      <th>15</th>\n",
       "      <td>Canadian Security Intelligence Service</td>\n",
       "      <td>[]</td>\n",
       "      <td>https://www.indeed.ca/rc/clk?jk=3022e9338495f0...</td>\n",
       "      <td>[$89,400 - $108,820 a year, Permanent]</td>\n",
       "      <td>\\n\\nData Scientist - Ottawa, ON - Indeed.ca\\n\\...</td>\n",
       "      <td>Data Scientist</td>\n",
       "    </tr>\n",
       "    <tr>\n",
       "      <th>17</th>\n",
       "      <td>Government of Canada</td>\n",
       "      <td>[]</td>\n",
       "      <td>https://www.indeed.ca/rc/clk?jk=4ddb6d46a67895...</td>\n",
       "      <td>[$70,439 - $86,213 a year]</td>\n",
       "      <td>\\n\\nData Base Analyst - Ottawa, ON - Indeed.co...</td>\n",
       "      <td>Data Base Analyst</td>\n",
       "    </tr>\n",
       "    <tr>\n",
       "      <th>20</th>\n",
       "      <td>Government of Canada</td>\n",
       "      <td>[]</td>\n",
       "      <td>https://www.indeed.ca/rc/clk?jk=8aa6d0ab99926b...</td>\n",
       "      <td>[$57,426 - $79,234 a year]</td>\n",
       "      <td>\\n\\nAnalyst - Ottawa, ON - Indeed.com\\n\\n\\nFin...</td>\n",
       "      <td>Analyst</td>\n",
       "    </tr>\n",
       "    <tr>\n",
       "      <th>32</th>\n",
       "      <td>Government of Canada</td>\n",
       "      <td>[]</td>\n",
       "      <td>https://www.indeed.ca/rc/clk?jk=dd3fad433a4f35...</td>\n",
       "      <td>[$35,267 - $70,309 a year]</td>\n",
       "      <td>\\n\\nPhysical Scientist / Physical science poli...</td>\n",
       "      <td>Physical Scientist / Physical science policy a...</td>\n",
       "    </tr>\n",
       "  </tbody>\n",
       "</table>\n",
       "</div>"
      ],
      "text/plain": [
       "                                  employer exp  \\\n",
       "7                     Government of Canada  []   \n",
       "15  Canadian Security Intelligence Service  []   \n",
       "17                    Government of Canada  []   \n",
       "20                    Government of Canada  []   \n",
       "32                    Government of Canada  []   \n",
       "\n",
       "                                                 link  \\\n",
       "7   https://www.indeed.ca/rc/clk?jk=7ff10eb9b80c01...   \n",
       "15  https://www.indeed.ca/rc/clk?jk=3022e9338495f0...   \n",
       "17  https://www.indeed.ca/rc/clk?jk=4ddb6d46a67895...   \n",
       "20  https://www.indeed.ca/rc/clk?jk=8aa6d0ab99926b...   \n",
       "32  https://www.indeed.ca/rc/clk?jk=dd3fad433a4f35...   \n",
       "\n",
       "                                     props  \\\n",
       "7             [$108,528 - $141,426 a year]   \n",
       "15  [$89,400 - $108,820 a year, Permanent]   \n",
       "17              [$70,439 - $86,213 a year]   \n",
       "20              [$57,426 - $79,234 a year]   \n",
       "32              [$35,267 - $70,309 a year]   \n",
       "\n",
       "                                                 text  \\\n",
       "7   \\n\\nDirector, Data Analytics - Ottawa, ON - In...   \n",
       "15  \\n\\nData Scientist - Ottawa, ON - Indeed.ca\\n\\...   \n",
       "17  \\n\\nData Base Analyst - Ottawa, ON - Indeed.co...   \n",
       "20  \\n\\nAnalyst - Ottawa, ON - Indeed.com\\n\\n\\nFin...   \n",
       "32  \\n\\nPhysical Scientist / Physical science poli...   \n",
       "\n",
       "                                                title  \n",
       "7                            Director, Data Analytics  \n",
       "15                                     Data Scientist  \n",
       "17                                  Data Base Analyst  \n",
       "20                                            Analyst  \n",
       "32  Physical Scientist / Physical science policy a...  "
      ]
     },
     "execution_count": 6,
     "metadata": {},
     "output_type": "execute_result"
    }
   ],
   "source": [
    "gov = data[data['employer'].fillna('').str.lower().str.replace('[^a-z]', '').str.strip().isin(agencies)]#.head()\n",
    "priv = data[~data['employer'].fillna('').str.lower().str.replace('[^a-z]', '').str.strip().isin(agencies)]#.head()\n",
    "gov.head()"
   ]
  },
  {
   "cell_type": "markdown",
   "metadata": {},
   "source": [
    "The number of private sector job postings."
   ]
  },
  {
   "cell_type": "code",
   "execution_count": 7,
   "metadata": {},
   "outputs": [
    {
     "data": {
      "text/plain": [
       "1210"
      ]
     },
     "execution_count": 7,
     "metadata": {},
     "output_type": "execute_result"
    }
   ],
   "source": [
    "len(priv)"
   ]
  },
  {
   "cell_type": "markdown",
   "metadata": {},
   "source": [
    "The number of public sector job postings."
   ]
  },
  {
   "cell_type": "code",
   "execution_count": 8,
   "metadata": {},
   "outputs": [
    {
     "data": {
      "text/plain": [
       "40"
      ]
     },
     "execution_count": 8,
     "metadata": {},
     "output_type": "execute_result"
    }
   ],
   "source": [
    "len(gov)"
   ]
  },
  {
   "cell_type": "markdown",
   "metadata": {},
   "source": [
    "A unique set of private sector employers."
   ]
  },
  {
   "cell_type": "code",
   "execution_count": 9,
   "metadata": {},
   "outputs": [
    {
     "data": {
      "text/plain": [
       "{'ADGA Group',\n",
       " 'AECOM',\n",
       " 'AGAT Laboratories',\n",
       " 'AT&T',\n",
       " 'AbbVie',\n",
       " 'Abbott Laboratories',\n",
       " 'Academy for Mathematics & English',\n",
       " 'Accenture',\n",
       " 'Accreditation Canada',\n",
       " 'Adastra Corporation',\n",
       " 'Adventure Place',\n",
       " 'Affinity Systems',\n",
       " 'Aimia',\n",
       " 'Ainsworth',\n",
       " 'Air Canada Vacations',\n",
       " 'Algonquin College',\n",
       " 'AllianceData',\n",
       " 'Allianz Global Assistance',\n",
       " 'Alterna Savings',\n",
       " 'Alzheimer Society Peel',\n",
       " 'Amazon.com',\n",
       " 'Aon Canada',\n",
       " 'Aphria Inc.',\n",
       " 'Apple',\n",
       " 'Applied Systems Inc.',\n",
       " 'Applyboard',\n",
       " 'AstraZeneca',\n",
       " 'Aurora Cannabis, Inc',\n",
       " 'Ausenco',\n",
       " 'Autodesk',\n",
       " 'Avanade',\n",
       " 'Aviva',\n",
       " 'Axiom Real-Time Metrics',\n",
       " 'BBM',\n",
       " 'BGIS',\n",
       " 'BMO Financial Group',\n",
       " 'Baird & Associates',\n",
       " 'Barrick Gold Corporation',\n",
       " 'Baycrest',\n",
       " 'Bayer Canada',\n",
       " \"Beau's All Natural Brewing Co.\",\n",
       " \"Beau's All Natural Brewing Company\",\n",
       " 'BelairDirect',\n",
       " 'Bell',\n",
       " 'BiblioCommons',\n",
       " 'BlackBerry',\n",
       " 'Bodycote',\n",
       " 'BrainStation',\n",
       " 'Brock University',\n",
       " 'Brookfield Properties',\n",
       " 'CAPCO',\n",
       " 'CENX',\n",
       " 'CH2M',\n",
       " 'CHRC',\n",
       " 'CI Investments Inc',\n",
       " 'CMiC',\n",
       " 'COSMETICA LABORATORIES INC.',\n",
       " 'CPP Investment Board',\n",
       " 'Canadian Institute for Health Information',\n",
       " 'Canadian Mental Health Association, Haliburton, Kawartha, Pine Ridge Branch',\n",
       " 'Canadian Tire Corporation',\n",
       " 'Cancer Care Ontario',\n",
       " 'Canopy Growth Corporation',\n",
       " 'Capgemini',\n",
       " 'Capital One',\n",
       " 'Cargill',\n",
       " 'Carleton University',\n",
       " 'Cascades Recovery + (Cascades Inc.)',\n",
       " 'Catalent Pharma Solutions',\n",
       " 'Cavendish Farms',\n",
       " 'Celestica',\n",
       " 'Centennial College',\n",
       " 'Centerra Gold',\n",
       " 'Centre for Addiction and Mental Health',\n",
       " 'Ciena',\n",
       " 'Cineplex',\n",
       " 'Cisco',\n",
       " 'Citco',\n",
       " 'Citi',\n",
       " 'City of Brampton',\n",
       " 'City of Mississauga',\n",
       " 'City of Ottawa',\n",
       " 'City of Toronto',\n",
       " 'Colliers International',\n",
       " 'Conexiom',\n",
       " 'Contract Pharmaceuticals',\n",
       " 'County of Huron',\n",
       " 'Cox Automotive',\n",
       " 'Critical Mass',\n",
       " 'Crosslinx Transit Solutions',\n",
       " 'D2L',\n",
       " 'DB Schenker',\n",
       " 'DBRS',\n",
       " 'DST Consulting Engineers',\n",
       " 'Dealer-FX',\n",
       " 'Deloitte',\n",
       " 'Dentsu Aegis Network',\n",
       " 'Dimension Data',\n",
       " 'Diversey, Inc.',\n",
       " 'Dr. Oetker',\n",
       " 'DuPont',\n",
       " 'Durham College',\n",
       " 'EDC',\n",
       " 'ENERCARE',\n",
       " 'EY',\n",
       " 'Eagle Professional Resources Inc',\n",
       " 'Eastern Ontario Health Unit',\n",
       " 'Echelon Insurance',\n",
       " 'Elastic',\n",
       " 'Eli Lilly',\n",
       " 'Equifax',\n",
       " 'Ericsson',\n",
       " 'FDM Group',\n",
       " 'FIRSTONTARIO CREDIT UNION',\n",
       " 'Facebook',\n",
       " 'Farmers Edge',\n",
       " 'Finastra',\n",
       " 'Flipp',\n",
       " 'Fortinet',\n",
       " 'FreshBooks',\n",
       " 'Fujitsu',\n",
       " 'Fuze',\n",
       " 'GALE Partners',\n",
       " 'GHD',\n",
       " 'GNC Canada',\n",
       " 'Gameloft',\n",
       " 'Gates Corporation',\n",
       " 'Gateway Casinos',\n",
       " 'General Dynamics Mission Systems Canada',\n",
       " 'General Electric',\n",
       " 'George Brown College',\n",
       " 'Geotab',\n",
       " 'Goldcorp',\n",
       " 'Golder Associates',\n",
       " 'Google',\n",
       " 'Grand River Hospital',\n",
       " 'Groupe Leclerc',\n",
       " 'HIGHBURY CANCO',\n",
       " 'HORIZON PLASTICS',\n",
       " 'HSBC',\n",
       " 'Halton Region',\n",
       " 'Hamilton Health Sciences Corporation',\n",
       " 'Harris Computer Systems',\n",
       " 'Harry Rosen',\n",
       " 'Hatch',\n",
       " 'Heart and Stroke Foundation',\n",
       " 'Hill+Knowlton Strategies',\n",
       " 'Hitachi Consulting Services Canada Corporation',\n",
       " 'Holland Bloorview Kids Rehabilitation Hospital',\n",
       " 'HomeStars',\n",
       " 'Homewood Health',\n",
       " 'House of Friendship',\n",
       " 'Huawei Canada',\n",
       " 'Humber Polytech',\n",
       " 'Humber River Hospital',\n",
       " 'Hydro Ottawa',\n",
       " 'IBM',\n",
       " 'IFG International Financial Group',\n",
       " 'IISD',\n",
       " 'IQVIA',\n",
       " 'Incognito Software',\n",
       " 'Index Exchange',\n",
       " 'Ingram Micro',\n",
       " 'Ingredion',\n",
       " 'Institute for Clinical Evaluative Sciences',\n",
       " 'Intact',\n",
       " 'Intelerad',\n",
       " 'International Financial Group',\n",
       " 'Intertek',\n",
       " 'Ipsos North America',\n",
       " 'JLL',\n",
       " 'Johnson & Johnson Family of Companies',\n",
       " 'KPMG LLP',\n",
       " 'Kantar',\n",
       " 'Kenna',\n",
       " 'Kinaxis',\n",
       " 'L-3 Communications',\n",
       " 'LG Electronics',\n",
       " 'LMC Diabetes & Endocrinology',\n",
       " 'LRO Staffing',\n",
       " 'Labatt Breweries of Canada',\n",
       " 'Labstat International ULC',\n",
       " 'Ledcor',\n",
       " 'Linamar Corp',\n",
       " 'Loblaw Companies Limited',\n",
       " 'Lock Search Group',\n",
       " 'London Health Sciences Centre',\n",
       " 'London Regional Cancer Program',\n",
       " \"Longo's\",\n",
       " 'LoyaltyOne',\n",
       " 'MDA Corporation',\n",
       " 'MDS Aero Support Corporation',\n",
       " 'MILL STREET BREWERY',\n",
       " 'MONSANTO',\n",
       " 'Mackenzie Health',\n",
       " 'Mackenzie Investments',\n",
       " 'Manulife',\n",
       " 'Maple Leaf',\n",
       " 'Maple Leaf Foods',\n",
       " 'Mars',\n",
       " 'MaxSys Staffing & Consulting',\n",
       " 'McAfee',\n",
       " 'McKesson',\n",
       " 'McMaster University',\n",
       " 'Metrolinx',\n",
       " 'Michael Page International',\n",
       " 'Ministry of Community Safety and Correctional Services',\n",
       " 'Mitel',\n",
       " 'Moneris Solutions Corporation',\n",
       " 'Mount Sinai Canada',\n",
       " 'Mozilla',\n",
       " 'Mueller Water Products',\n",
       " 'Munich Re',\n",
       " 'Myticas Consulting',\n",
       " 'NOKIA',\n",
       " 'NSERC',\n",
       " 'NSF International',\n",
       " 'Neptune Technology Group',\n",
       " 'Niagara Region',\n",
       " 'Nomis Solutions',\n",
       " 'North York General Hospital',\n",
       " 'Novartis',\n",
       " 'Noviur Technologies',\n",
       " 'Ontario Power Generation',\n",
       " 'Ontario Shores Centre for Mental Health Services',\n",
       " 'OpenText',\n",
       " 'Oxford Learning Centers',\n",
       " 'Parmalat Canada',\n",
       " 'Parsons',\n",
       " 'PepsiCo',\n",
       " 'PerkinElmer',\n",
       " 'Pernod Ricard',\n",
       " 'PharmEng Technology',\n",
       " 'Pinchin Ltd.',\n",
       " 'Pinecrest-Queensway Community Health Centre',\n",
       " 'Plan Group',\n",
       " 'Points International',\n",
       " 'Porter Airlines Inc.',\n",
       " 'Praxair',\n",
       " 'Prodigy Game',\n",
       " 'PwC',\n",
       " \"Queen's University\",\n",
       " 'RB',\n",
       " 'RBC',\n",
       " 'RWDI',\n",
       " 'Rakuten Kobo Inc.',\n",
       " 'Rebel',\n",
       " 'Region of Waterloo',\n",
       " 'Resolute Forest Products',\n",
       " 'Rexall',\n",
       " 'Robert Half Technology',\n",
       " 'Roche',\n",
       " 'Rogers Communications',\n",
       " 'Roots',\n",
       " 'Royal College of Physicians and Surgeons of Canada',\n",
       " 'Royal Ottawa Health Care Group',\n",
       " 'SCIEX',\n",
       " 'SE Health',\n",
       " 'SGS',\n",
       " 'SNC-LAVALIN INFRASTRUCTURE',\n",
       " 'SNC-Lavalin',\n",
       " 'SS&C Technologies',\n",
       " 'Saba Software',\n",
       " 'Saint-Gobain',\n",
       " 'Salesforce',\n",
       " 'Sanofi',\n",
       " 'Sapient',\n",
       " 'Schaeffler Group',\n",
       " 'Scotiabank',\n",
       " 'Septodont',\n",
       " 'Sheridan College',\n",
       " 'Shopify',\n",
       " 'Shoppers Drug Mart / Pharmaprix',\n",
       " 'SickKids',\n",
       " 'Sleeman Breweries Ltd',\n",
       " 'Softchoice',\n",
       " 'Sortable',\n",
       " 'Stackpole International',\n",
       " 'Stanley Black & Decker',\n",
       " 'Stantec',\n",
       " 'Star Media Group',\n",
       " 'Sun Life Financial',\n",
       " 'Sunnybrook Health Sciences Centre',\n",
       " 'Sunwing Travel Group',\n",
       " 'Supply Chain',\n",
       " 'Symantec',\n",
       " 'Syngenta',\n",
       " 'Synopsys',\n",
       " 'TD Bank',\n",
       " 'Tangerine Bank',\n",
       " 'Taro Pharmaceuticals Inc.',\n",
       " 'Thales Group',\n",
       " 'The Beer Store',\n",
       " 'The Economical Insurance Group',\n",
       " 'The Globe and Mail',\n",
       " 'The Marketing Store',\n",
       " 'The Nielsen Company',\n",
       " 'The Ottawa Hospital',\n",
       " 'The Royal Ottawa Mental Health Centre',\n",
       " 'Thermo Fisher Scientific',\n",
       " 'Think Research',\n",
       " 'Titus',\n",
       " 'Toronto District School Board',\n",
       " 'Toronto Research Chemicals Inc.',\n",
       " 'Toronto Transit Commission',\n",
       " 'Town of Oakville',\n",
       " 'Traction on Demand',\n",
       " 'TransForm Shared Service Organization',\n",
       " 'Travelers',\n",
       " 'Trend Micro',\n",
       " 'Trillium Health Care Products',\n",
       " 'Uber',\n",
       " 'Unilever',\n",
       " 'University Health Network',\n",
       " 'University Hospital',\n",
       " 'University of Ontario Institute of Technology',\n",
       " 'University of Ottawa',\n",
       " 'University of Ottawa Heart Institute',\n",
       " 'University of Toronto',\n",
       " 'University of Waterloo',\n",
       " 'University of Western Ontario',\n",
       " 'University of Windsor',\n",
       " 'Ventura Foods Canada',\n",
       " 'Verafin',\n",
       " 'VersaCold Logistics Services',\n",
       " 'Via Advanced Technologies',\n",
       " 'Viavi Solutions',\n",
       " 'Victoria Hospital',\n",
       " 'Vistaprint',\n",
       " 'WSP',\n",
       " 'Walmart Canada',\n",
       " 'Weir Group PLC',\n",
       " 'Weston Foods',\n",
       " 'Wilfrid Laurier University',\n",
       " 'Windsor Regional Hospital',\n",
       " 'Wood',\n",
       " 'Workbridge Associates',\n",
       " 'Workplace Safety and Insurance Board',\n",
       " 'Wunderman',\n",
       " 'Xylem',\n",
       " 'York Region',\n",
       " 'York University',\n",
       " 'Zebra Technologies',\n",
       " 'Zynga',\n",
       " 'exp',\n",
       " 'gdR | Grossman Dorland Recruiting',\n",
       " nan}"
      ]
     },
     "execution_count": 9,
     "metadata": {},
     "output_type": "execute_result"
    }
   ],
   "source": [
    "set(priv.employer)"
   ]
  },
  {
   "cell_type": "markdown",
   "metadata": {},
   "source": [
    "A unique set of public sector employers with postings on Indeed."
   ]
  },
  {
   "cell_type": "code",
   "execution_count": 10,
   "metadata": {},
   "outputs": [
    {
     "data": {
      "text/plain": [
       "{'Canadian Air Transport Security Authority',\n",
       " 'Canadian Forces Morale and Welfare Services',\n",
       " 'Canadian Security Intelligence Service',\n",
       " 'Communications Security Establishment',\n",
       " 'Government of Canada',\n",
       " 'National Research Council Canada',\n",
       " 'Royal Canadian Mint'}"
      ]
     },
     "execution_count": 10,
     "metadata": {},
     "output_type": "execute_result"
    }
   ],
   "source": [
    "set(gov.employer)"
   ]
  },
  {
   "cell_type": "code",
   "execution_count": 11,
   "metadata": {},
   "outputs": [],
   "source": [
    "def compound_list(l):\n",
    "    d = ''\n",
    "    for string in l:\n",
    "        d = d + string \n",
    "    return d "
   ]
  },
  {
   "cell_type": "code",
   "execution_count": 14,
   "metadata": {},
   "outputs": [],
   "source": [
    "gov_desc = compound_list(raze_list(gov['text'])).lower()\n",
    "priv_desc = compound_list(raze_list(priv['text'])).lower()"
   ]
  },
  {
   "cell_type": "markdown",
   "metadata": {},
   "source": [
    "The list of languages and technologies mentioned in these job postings alongside their frequencies, separated into private and public sector."
   ]
  },
  {
   "cell_type": "code",
   "execution_count": 15,
   "metadata": {},
   "outputs": [],
   "source": [
    "lang = {'python':re.compile('python'), 'r': re.compile('\\\\br\\\\b'), 'sql':re.compile('sql'),\\\n",
    "      'sas':re.compile('\\\\bsas\\\\b|statistical analysis system'), 'excel': re.compile('\\\\bexcel\\\\b'), \\\n",
    "       'spss':re.compile('spss|statistical package for (the ){0,1}social science'), \\\n",
    "      'hadoop':re.compile('hadoop'), 'kibana':re.compile('kibana'), 'tableau':re.compile('tableau'), \\\n",
    "      'pig':re.compile('\\\\bpig\\\\b'), 'stata':re.compile('stata'), 'powerbi':re.compile('power bi'), \\\n",
    "      'java':re.compile('java'), 'c/c++':re.compile('\\\\bc(\\\\+\\\\+){0,1}\\\\b'), 'hive':re.compile('\\\\bhive\\\\b'), \\\n",
    "      'matlab':re.compile('matlab'), 'ruby':re.compile('ruby'), 'perl':re.compile('\\\\bperl\\\\b'), 'hbase':re.compile('hbase'), \\\n",
    "      'spark':re.compile('spark'), 'php':re.compile('\\\\bphp\\\\b'), 'scala':re.compile('\\\\bscala\\\\b')}\n",
    "gov_results = dict()\n",
    "priv_results = dict()\n",
    "for key in lang:\n",
    "    priv_results[key] = len(re.findall(lang[key], priv_desc))\n",
    "    gov_results[key] = len(re.findall(lang[key], gov_desc))"
   ]
  },
  {
   "cell_type": "markdown",
   "metadata": {},
   "source": [
    "Private sector results:"
   ]
  },
  {
   "cell_type": "code",
   "execution_count": 16,
   "metadata": {},
   "outputs": [
    {
     "data": {
      "text/plain": [
       "{'python': 484,\n",
       " 'r': 461,\n",
       " 'sql': 860,\n",
       " 'sas': 157,\n",
       " 'excel': 248,\n",
       " 'spss': 33,\n",
       " 'hadoop': 473,\n",
       " 'kibana': 3,\n",
       " 'tableau': 108,\n",
       " 'pig': 17,\n",
       " 'stata': 10,\n",
       " 'powerbi': 39,\n",
       " 'java': 409,\n",
       " 'c/c++': 457,\n",
       " 'hive': 261,\n",
       " 'matlab': 39,\n",
       " 'ruby': 66,\n",
       " 'perl': 19,\n",
       " 'hbase': 175,\n",
       " 'spark': 230,\n",
       " 'php': 28,\n",
       " 'scala': 111}"
      ]
     },
     "execution_count": 16,
     "metadata": {},
     "output_type": "execute_result"
    }
   ],
   "source": [
    "priv_results"
   ]
  },
  {
   "cell_type": "markdown",
   "metadata": {},
   "source": [
    "Public sector results:"
   ]
  },
  {
   "cell_type": "code",
   "execution_count": 17,
   "metadata": {},
   "outputs": [
    {
     "data": {
      "text/plain": [
       "{'python': 7,\n",
       " 'r': 5,\n",
       " 'sql': 9,\n",
       " 'sas': 8,\n",
       " 'excel': 8,\n",
       " 'spss': 2,\n",
       " 'hadoop': 0,\n",
       " 'kibana': 0,\n",
       " 'tableau': 0,\n",
       " 'pig': 0,\n",
       " 'stata': 1,\n",
       " 'powerbi': 1,\n",
       " 'java': 12,\n",
       " 'c/c++': 13,\n",
       " 'hive': 0,\n",
       " 'matlab': 1,\n",
       " 'ruby': 0,\n",
       " 'perl': 1,\n",
       " 'hbase': 0,\n",
       " 'spark': 1,\n",
       " 'php': 2,\n",
       " 'scala': 0}"
      ]
     },
     "execution_count": 17,
     "metadata": {},
     "output_type": "execute_result"
    }
   ],
   "source": [
    "gov_results"
   ]
  },
  {
   "cell_type": "markdown",
   "metadata": {},
   "source": [
    "Saving to .csv."
   ]
  },
  {
   "cell_type": "code",
   "execution_count": 23,
   "metadata": {},
   "outputs": [],
   "source": [
    "gov_lang = [(key,gov_results[key]) for key in gov_results]\n",
    "gov_lang = pd.DataFrame(gov_lang, columns = ['lang', 'freq'])\n",
    "gov_lang.to_csv('gov_lang.csv', index=False)"
   ]
  },
  {
   "cell_type": "code",
   "execution_count": 24,
   "metadata": {},
   "outputs": [],
   "source": [
    "priv_lang = [(key,priv_results[key]) for key in priv_results]\n",
    "priv_lang = pd.DataFrame(priv_lang, columns = ['lang', 'freq'])\n",
    "priv_lang.to_csv('priv_lang.csv', index=False)"
   ]
  },
  {
   "cell_type": "markdown",
   "metadata": {},
   "source": [
    "Searching for keywords in non-salary compensations and perks mentioned in the job postings, separated out by public and private sector."
   ]
  },
  {
   "cell_type": "code",
   "execution_count": 18,
   "metadata": {},
   "outputs": [],
   "source": [
    "pros = {'opportunity':re.compile('opportunity'), 'growth':re.compile('growth'), \\\n",
    "               'advancement':re.compile('advancement'), 'bonus':re.compile('bonus'), \\\n",
    "               'balance':re.compile('balance'), 'benefits':re.compile('benefits'), \\\n",
    "               'travel':re.compile('travel'), 'flexibility':re.compile('flexibility|flexible'), \\\n",
    "       'diversity':re.compile('diverse|diversity')}\n",
    "\n",
    "gov_pros = dict()\n",
    "priv_pros = dict()\n",
    "for key in pros:\n",
    "    priv_pros[key] = len(re.findall(pros[key], priv_desc))\n",
    "    gov_pros[key] = len(re.findall(pros[key], gov_desc))\n",
    "    "
   ]
  },
  {
   "cell_type": "markdown",
   "metadata": {},
   "source": [
    "Public sector:"
   ]
  },
  {
   "cell_type": "code",
   "execution_count": 19,
   "metadata": {},
   "outputs": [
    {
     "data": {
      "text/plain": [
       "{'opportunity': 26,\n",
       " 'growth': 4,\n",
       " 'advancement': 0,\n",
       " 'bonus': 1,\n",
       " 'balance': 4,\n",
       " 'benefits': 23,\n",
       " 'travel': 35,\n",
       " 'flexibility': 20,\n",
       " 'diversity': 61}"
      ]
     },
     "execution_count": 19,
     "metadata": {},
     "output_type": "execute_result"
    }
   ],
   "source": [
    "gov_pros"
   ]
  },
  {
   "cell_type": "markdown",
   "metadata": {},
   "source": [
    "Private sector:"
   ]
  },
  {
   "cell_type": "code",
   "execution_count": 20,
   "metadata": {},
   "outputs": [
    {
     "data": {
      "text/plain": [
       "{'opportunity': 885,\n",
       " 'growth': 415,\n",
       " 'advancement': 41,\n",
       " 'bonus': 66,\n",
       " 'balance': 127,\n",
       " 'benefits': 465,\n",
       " 'travel': 314,\n",
       " 'flexibility': 514,\n",
       " 'diversity': 716}"
      ]
     },
     "execution_count": 20,
     "metadata": {},
     "output_type": "execute_result"
    }
   ],
   "source": [
    "priv_pros"
   ]
  },
  {
   "cell_type": "markdown",
   "metadata": {},
   "source": [
    "Saving to .csv."
   ]
  },
  {
   "cell_type": "code",
   "execution_count": 28,
   "metadata": {},
   "outputs": [],
   "source": [
    "gov_pros = [(key,gov_pros[key]) for key in gov_pros]\n",
    "gov_pros = pd.DataFrame(gov_pros, columns = ['pro', 'freq'])\n",
    "gov_pros.to_csv('gov_pros.csv', index=False)"
   ]
  },
  {
   "cell_type": "code",
   "execution_count": 29,
   "metadata": {},
   "outputs": [],
   "source": [
    "priv_pros = [(key,priv_pros[key]) for key in priv_pros]\n",
    "priv_pros = pd.DataFrame(priv_pros, columns = ['pro', 'freq'])\n",
    "priv_pros.to_csv('priv_pros.csv', index=False)"
   ]
  },
  {
   "cell_type": "code",
   "execution_count": null,
   "metadata": {},
   "outputs": [],
   "source": []
  }
 ],
 "metadata": {
  "kernelspec": {
   "display_name": "Python 3",
   "language": "python",
   "name": "python3"
  },
  "language_info": {
   "codemirror_mode": {
    "name": "ipython",
    "version": 3
   },
   "file_extension": ".py",
   "mimetype": "text/x-python",
   "name": "python",
   "nbconvert_exporter": "python",
   "pygments_lexer": "ipython3",
   "version": "3.6.5"
  }
 },
 "nbformat": 4,
 "nbformat_minor": 2
}
