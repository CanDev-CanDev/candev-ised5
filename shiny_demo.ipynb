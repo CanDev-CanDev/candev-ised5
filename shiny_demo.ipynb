{
 "cells": [
  {
   "cell_type": "markdown",
   "metadata": {},
   "source": [
    "install.packages(\"shiny\", repos = \"http://cran.us.r-project.org\")\n",
    "\n",
    "install.packages(\"CANSIM2R\", repos = \"http://cran.us.r-project.org\")\n",
    "\n",
    "install.packages(\"plotly\", repos = \"http://cran.us.r-project.org\")"
   ]
  },
  {
   "cell_type": "code",
   "execution_count": 14,
   "metadata": {},
   "outputs": [],
   "source": [
    "library(shiny)"
   ]
  },
  {
   "cell_type": "code",
   "execution_count": null,
   "metadata": {},
   "outputs": [
    {
     "name": "stderr",
     "output_type": "stream",
     "text": [
      "\n",
      "Listening on http://127.0.0.1:3979\n"
     ]
    }
   ],
   "source": [
    "runExample(\"01_hello\")"
   ]
  },
  {
   "cell_type": "code",
   "execution_count": 12,
   "metadata": {},
   "outputs": [],
   "source": [
    "library(CANSIM2R)\n",
    "library(tidyverse)"
   ]
  },
  {
   "cell_type": "code",
   "execution_count": 2,
   "metadata": {},
   "outputs": [],
   "source": [
    "gdp_raw <- getCANSIM(36100434, raw=TRUE)"
   ]
  },
  {
   "cell_type": "code",
   "execution_count": 5,
   "metadata": {},
   "outputs": [
    {
     "name": "stdout",
     "output_type": "stream",
     "text": [
      "[1] \"Seasonally adjusted at annual rates\" \"Trading-day adjusted\"               \n",
      "[1] \"Chained (2007) dollars\" \"2007 constant prices\"  \n",
      "[1] \"Canada\"\n"
     ]
    }
   ],
   "source": [
    "print(unique(gdp_raw$Seasonal.adjustment))\n",
    "print(unique(gdp_raw$Prices))\n",
    "print(unique(gdp_raw$GEO))"
   ]
  },
  {
   "cell_type": "code",
   "execution_count": null,
   "metadata": {},
   "outputs": [],
   "source": [
    "gdp <- gdp_raw %>% \n",
    "  filter(Seasonal.adjustment %in% \"Seasonally adjusted at annual rates\")%>%\n",
    "  select(\"time\"=\"X.U.FEFF.REF_DATE\",\n",
    "         \"naics\"=\"North.American.Industry.Classification.System..NAICS.\",\n",
    "         \"value\"=\"VALUE\", \n",
    "         \"prices\"=\"Prices\") \n",
    "\n",
    "gdp %>% as_tibble() %>% print()"
   ]
  },
  {
   "cell_type": "code",
   "execution_count": 9,
   "metadata": {},
   "outputs": [
    {
     "name": "stdout",
     "output_type": "stream",
     "text": [
      "# A tibble: 141,414 x 5\n",
      "   time    naics                          value prices               time1     \n",
      "   <chr>   <chr>                          <int> <chr>                <date>    \n",
      " 1 1997-01 All industries               1047885 Chained (2007) doll~ 1997-01-01\n",
      " 2 1997-01 Goods-producing industries    364724 Chained (2007) doll~ 1997-01-01\n",
      " 3 1997-01 Service-producing industries  683158 Chained (2007) doll~ 1997-01-01\n",
      " 4 1997-01 Business sector industries    852880 Chained (2007) doll~ 1997-01-01\n",
      " 5 1997-01 Business sector, goods        362385 Chained (2007) doll~ 1997-01-01\n",
      " 6 1997-01 Business sector, services     491968 Chained (2007) doll~ 1997-01-01\n",
      " 7 1997-01 Non-business sector industr~  196274 Chained (2007) doll~ 1997-01-01\n",
      " 8 1997-01 Non-business sector, goods      2311 Chained (2007) doll~ 1997-01-01\n",
      " 9 1997-01 Non-business sector, servic~  193945 Chained (2007) doll~ 1997-01-01\n",
      "10 1997-01 Industrial production         285617 Chained (2007) doll~ 1997-01-01\n",
      "# ... with 141,404 more rows\n"
     ]
    }
   ],
   "source": [
    "gdp$time1<-as.Date(paste((gdp$time), \"-01\", sep=\"\"))\n",
    "gdp$time1<-as.Date(gdp$time1)\n",
    "gdp %>% as_tibble() %>% print()"
   ]
  },
  {
   "cell_type": "code",
   "execution_count": 15,
   "metadata": {},
   "outputs": [],
   "source": [
    "# Define UI for app that analyzes the GDP at the national level for all NAICS industries ----\n",
    "\n",
    "ui <- fluidPage(\n",
    "  \n",
    "  # App title ----\n",
    "  titlePanel(\"GDP Analysis\"),\n",
    "  \n",
    "  # Sidebar layout with input and output definitions ----\n",
    "  sidebarLayout(\n",
    "    \n",
    "    # Sidebar panel for inputs ----\n",
    "    sidebarPanel(\n",
    "      \n",
    "      # Input: selectInput allows users to choose a given industry ----\n",
    "      selectInput(inputId = \"industry\",\n",
    "                  label = \"Select an industry:\",\n",
    "                  choices = unique(gdp$naics)), \n",
    "      \n",
    "      # Input: radioButtons allows users to choose a price measure ----\n",
    "      radioButtons(inputId = \"prices\",\n",
    "                   label = \"Select price measure:\",\n",
    "                   choices = unique(gdp$prices))\n",
    "      \n",
    "    ),\n",
    "    \n",
    "    # Main panel for displaying outputs ----\n",
    "    mainPanel(\n",
    "      \n",
    "      # Output: Plot ----\n",
    "      plotOutput(outputId = \"plot2\", height = \"800px\", width = \"700px\")\n",
    "      \n",
    "      \n",
    "    )\n",
    "  )\n",
    ")\n",
    "\n",
    "# Define server logic required to draw a histogram ----\n",
    "server <- function(input, output) {\n",
    "  \n",
    "\n",
    "  # This expression will generate a plot that is wrapped in a call\n",
    "  # to renderPlot to indicate that:\n",
    "  #\n",
    "  # 1. It is \"reactive\" and therefore should be automatically\n",
    "  #    re-executed when inputs from the ui change\n",
    "  #\n",
    "  # 2. Its output type is a plot\n",
    "  \n",
    "  \n",
    "  output$plot2 <- renderPlot({\n",
    "    \n",
    "    dat <- gdp %>%\n",
    "      filter(naics %in% input$industry ) %>%\n",
    "      filter(prices %in% input$prices)\n",
    "    \n",
    "    ggplot(dat, aes(x= time1 , y= value, group=1))+\n",
    "      geom_line()+\n",
    "      theme(axis.text.x = element_text(size=11, angle=90))+\n",
    "      scale_x_date(date_labels = \"%b %y\", date_breaks = \"1 year\")\n",
    "\n",
    "  })\n",
    "  \n",
    "}\n",
    "\n",
    "# To run the app:\n",
    "\n",
    "# shinyApp(ui=ui, server=server)"
   ]
  },
  {
   "cell_type": "code",
   "execution_count": null,
   "metadata": {},
   "outputs": [
    {
     "name": "stderr",
     "output_type": "stream",
     "text": [
      "\n",
      "Listening on http://127.0.0.1:6226\n"
     ]
    }
   ],
   "source": [
    "shinyApp(ui=ui, server=server)"
   ]
  }
 ],
 "metadata": {
  "kernelspec": {
   "display_name": "R",
   "language": "R",
   "name": "ir"
  },
  "language_info": {
   "codemirror_mode": "r",
   "file_extension": ".r",
   "mimetype": "text/x-r-source",
   "name": "R",
   "pygments_lexer": "r",
   "version": "3.5.1"
  }
 },
 "nbformat": 4,
 "nbformat_minor": 2
}
